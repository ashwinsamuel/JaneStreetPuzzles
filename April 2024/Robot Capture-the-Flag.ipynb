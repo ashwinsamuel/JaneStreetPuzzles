{
  "nbformat": 4,
  "nbformat_minor": 0,
  "metadata": {
    "colab": {
      "provenance": []
    },
    "kernelspec": {
      "name": "python3",
      "display_name": "Python 3"
    },
    "language_info": {
      "name": "python"
    }
  },
  "cells": [
    {
      "cell_type": "code",
      "source": [
        "import sympy as smp\n",
        "#from sympy.stats import ContinuousRV, P, E\n",
        "#from sympy import refine, sqrt, Q\n",
        "import matplotlib.pyplot as plt\n",
        "import numpy as np\n",
        "\n",
        "r = smp.symbols(\"r\", real=True, domain=smp.Interval(0,1) )\n",
        "c = smp.symbols(\"c\", real=True, domain=smp.Interval(0,1) )\n",
        "#e = smp.symbols(\"e\", real=True, domain=smp.Interval(0,1) )"
      ],
      "metadata": {
        "id": "kcZmFPliI4vw"
      },
      "execution_count": 3,
      "outputs": []
    },
    {
      "cell_type": "code",
      "source": [
        "f1 = smp.sqrt(2*c*r-c**2)/r\n",
        "f2 = smp.acos(f1)#/smp.pi\n",
        "i1 = smp.integrate(2*r,(r,0,c/2))\n",
        "#i2 = smp.integrate(f2*2*r, (r,c/2,1) )\n",
        "#i1+i2\n",
        "i1"
      ],
      "metadata": {
        "colab": {
          "base_uri": "https://localhost:8080/",
          "height": 54
        },
        "id": "vXa7Pl58z5Xy",
        "outputId": "0e686d63-3727-4d88-f75e-1493a8aeec38"
      },
      "execution_count": 4,
      "outputs": [
        {
          "output_type": "execute_result",
          "data": {
            "text/plain": [
              "c**2/4"
            ],
            "text/latex": "$\\displaystyle \\frac{c^{2}}{4}$"
          },
          "metadata": {},
          "execution_count": 4
        }
      ]
    },
    {
      "cell_type": "code",
      "source": [
        "i2 = (smp.acos(smp.sqrt(2*c-c**2)) - c**2*smp.pi/8 - smp.sqrt(2*c-c**2)/3*(c+1) + 4*c**2/3)/smp.pi\n",
        "i2"
      ],
      "metadata": {
        "colab": {
          "base_uri": "https://localhost:8080/",
          "height": 60
        },
        "id": "ECt5z2uU4jqX",
        "outputId": "ee9750de-c260-4039-b7ed-ed26bb86c509"
      },
      "execution_count": 5,
      "outputs": [
        {
          "output_type": "execute_result",
          "data": {
            "text/plain": [
              "(-pi*c**2/8 + 4*c**2/3 - (c + 1)*sqrt(-c**2 + 2*c)/3 + acos(sqrt(-c**2 + 2*c)))/pi"
            ],
            "text/latex": "$\\displaystyle \\frac{- \\frac{\\pi c^{2}}{8} + \\frac{4 c^{2}}{3} - \\frac{\\left(c + 1\\right) \\sqrt{- c^{2} + 2 c}}{3} + \\operatorname{acos}{\\left(\\sqrt{- c^{2} + 2 c} \\right)}}{\\pi}$"
          },
          "metadata": {},
          "execution_count": 5
        }
      ]
    },
    {
      "cell_type": "code",
      "source": [
        "(i1+i2).simplify()"
      ],
      "metadata": {
        "colab": {
          "base_uri": "https://localhost:8080/",
          "height": 66
        },
        "id": "TDYNeqoMA9WD",
        "outputId": "ee03d45c-6667-440a-bc7c-ad4cf9ac7b74"
      },
      "execution_count": 6,
      "outputs": [
        {
          "output_type": "execute_result",
          "data": {
            "text/plain": [
              "(3*pi*c**2 + 32*c**2 - 8*sqrt(c*(2 - c))*(c + 1) + 24*acos(sqrt(c*(2 - c))))/(24*pi)"
            ],
            "text/latex": "$\\displaystyle \\frac{3 \\pi c^{2} + 32 c^{2} - 8 \\sqrt{c \\left(2 - c\\right)} \\left(c + 1\\right) + 24 \\operatorname{acos}{\\left(\\sqrt{c \\left(2 - c\\right)} \\right)}}{24 \\pi}$"
          },
          "metadata": {},
          "execution_count": 6
        }
      ]
    },
    {
      "cell_type": "code",
      "source": [
        "#COLUMN 2 PLOTTING\n",
        "X = np.arange(0,1.01,0.1)\n",
        "Y = [(i1+i2).subs(c,c_val) for c_val in X]\n",
        "plt.plot(X, Y)\n",
        "plt.xlabel('X')\n",
        "plt.ylabel('Y')\n",
        "#plt.title(f\"For 1 < {2*r0} < 2\")\n",
        "#plt.legend()\n",
        "plt.show()"
      ],
      "metadata": {
        "colab": {
          "base_uri": "https://localhost:8080/",
          "height": 449
        },
        "id": "Q61cmunP5QFK",
        "outputId": "e877c9f2-d390-429d-82cc-0e9b7406d73b"
      },
      "execution_count": 7,
      "outputs": [
        {
          "output_type": "display_data",
          "data": {
            "text/plain": [
              "<Figure size 640x480 with 1 Axes>"
            ],
            "image/png": "[encoded data removed]"
          },
          "metadata": {}
        }
      ]
    },
    {
      "cell_type": "code",
      "source": [
        "from scipy.optimize import minimize\n",
        "\n",
        "def func(x):\n",
        "    c_val = x[0]\n",
        "    return (i1+i2).subs(c,c_val)\n",
        "\n",
        "bounds = [[0,1.0]]\n",
        "x0 = 0.4\n",
        "solution = minimize(func, x0, method='L-BFGS-B',tol=1e-200)\n",
        "print(f\"{solution.fun.evalf()}\")"
      ],
      "metadata": {
        "colab": {
          "base_uri": "https://localhost:8080/"
        },
        "id": "1TLMfz9LJwvL",
        "outputId": "48899953-c9c1-4136-ffcc-31284b7fb580"
      },
      "execution_count": 12,
      "outputs": [
        {
          "output_type": "stream",
          "name": "stdout",
          "text": [
            "0.166186486474008\n"
          ]
        }
      ]
    },
    {
      "cell_type": "code",
      "source": [
        "#SLSQP:       0.166186486474008\n",
        "#Nelder-Mead: 0.1661864864740085\n",
        "#L-BFGS-B:    0.166186486474008"
      ],
      "metadata": {
        "id": "xl7hS3WyLbiR"
      },
      "execution_count": null,
      "outputs": []
    },
    {
      "cell_type": "code",
      "source": [],
      "metadata": {
        "id": "iMF4LRNYCim9"
      },
      "execution_count": null,
      "outputs": []
    },
    {
      "cell_type": "code",
      "source": [],
      "metadata": {
        "id": "iIQeuSyuCitv"
      },
      "execution_count": null,
      "outputs": []
    },
    {
      "cell_type": "code",
      "source": [],
      "metadata": {
        "id": "gJoGgHzECizz"
      },
      "execution_count": null,
      "outputs": []
    },
    {
      "cell_type": "code",
      "source": [
        "#DA VINCI PUZZLE\n",
        "\n",
        "sum4=0\n",
        "for i in range(2,132):\n",
        "  sum4+= i**4\n",
        "\n",
        "sum3=0\n",
        "for i in range(2,132):\n",
        "  sum3+= i**3\n",
        "\n",
        "sum2=0\n",
        "for i in range(2,132):\n",
        "  sum2+= i**2\n",
        "\n",
        "sum1=0\n",
        "for i in range(2,132):\n",
        "  sum1+= i\n",
        "\n",
        "ans = sum4/24 + sum3/12 -11/24*sum2 -sum1/2 - 130/6\n",
        "ans"
      ],
      "metadata": {
        "colab": {
          "base_uri": "https://localhost:8080/"
        },
        "id": "0kRSk9knwgdE",
        "outputId": "9ae30e7c-c8ad-4564-8263-f0d925a945fe"
      },
      "execution_count": null,
      "outputs": [
        {
          "output_type": "execute_result",
          "data": {
            "text/plain": [
              "333540083.5"
            ]
          },
          "metadata": {},
          "execution_count": 82
        }
      ]
    },
    {
      "cell_type": "code",
      "source": [
        "def func(n):\n",
        "  return n*(n+1)/2\n",
        "\n",
        "\n",
        "sum2=0\n",
        "for n3 in range(1,131):\n",
        "  for n2 in range(1,n3+1):\n",
        "    for i in range(1,n2+1):\n",
        "      sum2+= func(i)\n",
        "print(sum2)\n",
        "print(sum2/591600030)\n"
      ],
      "metadata": {
        "colab": {
          "base_uri": "https://localhost:8080/"
        },
        "id": "Uu35y5Xxwq2n",
        "outputId": "3fc6f0d2-e6c8-4d2b-ce2b-021a03e47b91"
      },
      "execution_count": null,
      "outputs": [
        {
          "output_type": "stream",
          "name": "stdout",
          "text": [
            "333859526.0\n",
            "0.5643331796315155\n"
          ]
        }
      ]
    }
  ]
}